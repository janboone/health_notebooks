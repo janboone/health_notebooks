{
 "cells": [
  {
   "cell_type": "markdown",
   "metadata": {},
   "source": [
    "# Analyzing health data with python\n",
    "\n",
    "\n",
    "In this notebook we use publicly available health care data to illustrate the use of some python libraries. We will plot health care expenditure per municipality and how health care varies with age. In the process you will see how libraries like pandas and matplotlib work.\n",
    "\n"
   ]
  },
  {
   "cell_type": "markdown",
   "metadata": {},
   "source": [
    "We consider three datasets related to Dutch health care expenditure:\n",
    "\n",
    "-   health care spending at the level of the municipality\n",
    "-   health care spending at the level of 3 digit postal codes\n",
    "-   distributions of health care expenditure per age group\n",
    "\n",
    "Some institutional background:\n",
    "\n",
    "-   in the Netherlands health insurance is mandatory\n",
    "-   people aged 18 or older face a deductible of 365 euros in 2014; no deductible for people below 18\n",
    "-   the deductible applies to a number of cost categories in the \"basic packages\"; see below\n",
    "-   people can &#x2013;voluntarily&#x2013; increase their deductible with 100, 200, 300, 400 or 500 euro; but our data has no information on this\n",
    "\n"
   ]
  },
  {
   "cell_type": "markdown",
   "metadata": {},
   "source": [
    "\n",
    "## Health care expenditures per municipality: relation costs per head and number of citizens\n",
    "\n"
   ]
  },
  {
   "cell_type": "markdown",
   "metadata": {},
   "source": [
    "We start with health care data on the level of municipalities.\n",
    "\n",
    "The following code block loads the data. We use data from [Vektis](http://www.vektis.nl/index.php/vektis-open-data). We import the data, which is a 'csv' file with \";\" as separator between columns. We also import the pandas library.\n",
    "\n",
    "Then we inspect the first ten rows of our data set.\n",
    "\n"
   ]
  },
  {
   "cell_type": "code",
   "execution_count": null,
   "metadata": {
    "collapsed": true
   },
   "outputs": [],
   "source": [
    "import pandas as pd\n",
    "df_gemeente = pd.read_csv('Vektis_Open_Databestand_Zorgverzekeringswet_2014_-_gemeente.csv', sep = ';')\n",
    "import matplotlib.pyplot as plt\n",
    "%matplotlib inline\n"
   ]
  },
  {
   "cell_type": "markdown",
   "metadata": {},
   "source": [
    "**Exercise**\n",
    "\n",
    "Wat do the first 10 rows look like?"
   ]
  },
  {
   "cell_type": "code",
   "execution_count": null,
   "metadata": {
    "collapsed": true
   },
   "outputs": [],
   "source": []
  },
  {
   "cell_type": "markdown",
   "metadata": {},
   "source": [
    "From the previous lecture, we have the following function to get the data into shape.\n",
    "\n"
   ]
  },
  {
   "cell_type": "code",
   "execution_count": null,
   "metadata": {
    "collapsed": true
   },
   "outputs": [],
   "source": [
    "cost_categories_under_deductible = ['KOSTEN_MEDISCH_SPECIALISTISCHE_ZORG', 'KOSTEN_MONDZORG', 'KOSTEN_FARMACIE', 'KOSTEN_HULPMIDDELEN', 'KOSTEN_PARAMEDISCHE_ZORG_FYSIOTHERAPIE', 'KOSTEN_PARAMEDISCHE_ZORG_OVERIG', 'KOSTEN_ZIEKENVERVOER_ZITTEND', 'KOSTEN_ZIEKENVERVOER_LIGGEND', 'KOSTEN_GRENSOVERSCHRIJDENDE_ZORG', 'KOSTEN_GERIATRISCHE_REVALIDATIEZORG', 'KOSTEN_OVERIG']\n",
    "\n",
    "def get_data_into_shape(df):\n",
    "    df['health_expenditure_under_deductible'] = df[cost_categories_under_deductible].sum(axis=1)\n",
    "    df = df.rename_axis({\n",
    "        'GESLACHT':'sex',\n",
    "        'LEEFTIJDSKLASSE':'age',\n",
    "        'GEMEENTENAAM':'MUNICIPALITY',\n",
    "        'AANTAL_BSN':'number_citizens',\n",
    "        'KOSTEN_MEDISCH_SPECIALISTISCHE_ZORG':'hospital_care',\n",
    "        'KOSTEN_FARMACIE':'pharmaceuticals',\n",
    "        'KOSTEN_TWEEDELIJNS_GGZ':'mental_care',\n",
    "        'KOSTEN_HUISARTS_INSCHRIJFTARIEF':'GP_capitation',\n",
    "        'KOSTEN_HUISARTS_CONSULT':'GP_fee_for_service',\n",
    "        'KOSTEN_HUISARTS_OVERIG':'GP_other',\n",
    "        'KOSTEN_MONDZORG':'dental care',\n",
    "        'KOSTEN_PARAMEDISCHE_ZORG_FYSIOTHERAPIE':'physiotherapy',\n",
    "        'KOSTEN_KRAAMZORG':'maternity_care',\n",
    "        'KOSTEN_VERLOSKUNDIGE_ZORG':'obstetrics'\n",
    "    }, axis='columns')\n",
    "    df.drop(['AANTAL_VERZEKERDEJAREN',\n",
    "             'KOSTEN_HULPMIDDELEN',\n",
    "             'KOSTEN_PARAMEDISCHE_ZORG_OVERIG',\n",
    "             'KOSTEN_ZIEKENVERVOER_ZITTEND',\n",
    "             'KOSTEN_ZIEKENVERVOER_LIGGEND',\n",
    "             'KOSTEN_GRENSOVERSCHRIJDENDE_ZORG',\n",
    "             'KOSTEN_GERIATRISCHE_REVALIDATIEZORG',\n",
    "             'KOSTEN_OVERIG',\n",
    "             'KOSTEN_GENERALISTISCHE_BASIS_GGZ',\n",
    "             'KOSTEN_EERSTELIJNS_ONDERSTEUNING'],inplace=True,axis=1)\n",
    "    df.drop(df.index[[0]], inplace=True)\n",
    "    df['sex'] = df['sex'].astype('category')\n",
    "    df['age'] = df['age'].astype('category')\n",
    "    return df"
   ]
  },
  {
   "cell_type": "markdown",
   "metadata": {},
   "source": [
    "Then we get the data into shape using the function just defined:\n",
    "\n"
   ]
  },
  {
   "cell_type": "code",
   "execution_count": null,
   "metadata": {
    "collapsed": true
   },
   "outputs": [],
   "source": [
    "df_gemeente = get_data_into_shape(df_gemeente)"
   ]
  },
  {
   "cell_type": "markdown",
   "metadata": {},
   "source": [
    "In the previous lecture, we selected rows from a dataframe using `loc`. E.g. we can select the municipality Breda and people between 10 and 14 years old, as follows:\n",
    "\n"
   ]
  },
  {
   "cell_type": "code",
   "execution_count": null,
   "metadata": {
    "collapsed": true
   },
   "outputs": [],
   "source": [
    "df_gemeente.loc[(df_gemeente.MUNICIPALITY == 'BREDA') & (df_gemeente['age'] == '10 t/m 14 jaar')]"
   ]
  },
  {
   "cell_type": "markdown",
   "metadata": {},
   "source": [
    "Pandas also has a \\`query\\` method which tends to be easier to read:\n",
    "\n"
   ]
  },
  {
   "cell_type": "code",
   "execution_count": null,
   "metadata": {
    "collapsed": true
   },
   "outputs": [],
   "source": [
    "df_gemeente.query('MUNICIPALITY==\"BREDA\" & age==\"10 t/m 14 jaar\"')"
   ]
  },
  {
   "cell_type": "markdown",
   "metadata": {},
   "source": [
    "Let us consider the relation between health care expenditure and the size of a municipality.\n",
    "\n",
    "**Exercise**\n",
    "\n",
    "Define `expenditure_per_head` in the next code block\n",
    "\n"
   ]
  },
  {
   "cell_type": "code",
   "execution_count": null,
   "metadata": {
    "collapsed": true
   },
   "outputs": [],
   "source": [
    "df_gemeente['expenditure_per_head']"
   ]
  },
  {
   "cell_type": "markdown",
   "metadata": {},
   "source": [
    "We are interested in the following comparison:\n",
    "* average number of citizens per municipality per age-gender category\n",
    "* number of citizens per age-gender category in the municipality where health care costs per head are lowest (for this category)"
   ]
  },
  {
   "cell_type": "markdown",
   "metadata": {},
   "source": [
    "Hence we create a dataframe with the average number of citizens per age category, differentiated between male and female"
   ]
  },
  {
   "cell_type": "code",
   "execution_count": null,
   "metadata": {
    "collapsed": true
   },
   "outputs": [],
   "source": [
    "sf = df_gemeente.groupby(['age','sex']).mean().unstack('sex')\n",
    "sf.columns = ['_'.join(col).strip() for col in sf.columns.values]"
   ]
  },
  {
   "cell_type": "markdown",
   "metadata": {},
   "source": [
    "**Exercise** \n",
    "\n",
    "What does this dataframe look like?"
   ]
  },
  {
   "cell_type": "code",
   "execution_count": null,
   "metadata": {
    "collapsed": true
   },
   "outputs": [],
   "source": []
  },
  {
   "cell_type": "markdown",
   "metadata": {},
   "source": [
    "And we create a dataframe where per age-gender category, we view the number of citizens for the municipality where health care costs per head are lowest."
   ]
  },
  {
   "cell_type": "code",
   "execution_count": null,
   "metadata": {
    "collapsed": true
   },
   "outputs": [],
   "source": [
    "df = df_gemeente.loc[df_gemeente.groupby(['age','sex'])['expenditure_per_head'].idxmin()][['sex','age','number_citizens']].set_index(['age','sex']).unstack('sex')\n",
    "df.columns = ['_'.join(col).strip() for col in df.columns.values]"
   ]
  },
  {
   "cell_type": "markdown",
   "metadata": {},
   "source": [
    "**Exercise**\n",
    "\n",
    "Look at the following code and try to understand what it does."
   ]
  },
  {
   "cell_type": "code",
   "execution_count": null,
   "metadata": {
    "collapsed": true
   },
   "outputs": [],
   "source": [
    "df.join(sf[['number_citizens_M','number_citizens_V']],how='outer',lsuffix='_min').plot(title=\"comparison average number of citizens with number of citizens in municipalities with lowest expenditure\",rot = 45)"
   ]
  },
  {
   "cell_type": "markdown",
   "metadata": {},
   "source": [
    "This figure shows the number of people in an age-gender category of the municipality where costs per head are the lowest, is way below the average number of people in that age-gender category across municipalities.\n",
    "\n",
    "I am from Zeeland, so I love this graph...\n",
    "\n",
    "\n",
    "**Exercise**\n",
    "\n",
    "What is the interpretation of the figure above?\n"
   ]
  },
  {
   "cell_type": "markdown",
   "metadata": {},
   "source": [
    "### health care expenditure for the elderly\n",
    "\n",
    "Below we plot health care expenditure for the age group people between 75 and 79.\n",
    "\n"
   ]
  },
  {
   "cell_type": "code",
   "execution_count": null,
   "metadata": {
    "collapsed": true
   },
   "outputs": [],
   "source": [
    "age = '75 t/m 79 jaar'\n",
    "\n",
    "plt.scatter(df_gemeente.loc[(df_gemeente.age == age)].number_citizens,df_gemeente.loc[(df_gemeente.age == age)].expenditure_per_head)"
   ]
  },
  {
   "cell_type": "markdown",
   "metadata": {},
   "source": [
    "\n",
    "# Health care expenditure and age\n",
    "\n"
   ]
  },
  {
   "cell_type": "markdown",
   "metadata": {},
   "source": [
    "The municipality data set above does not give the health care expenditure per age; only per age group (like 0-4 year olds). So we load another data set that does feature health care expenditure per age.\n",
    "\n"
   ]
  },
  {
   "cell_type": "markdown",
   "metadata": {},
   "source": [
    "\n",
    "## read in the data\n",
    "\n"
   ]
  },
  {
   "cell_type": "markdown",
   "metadata": {},
   "source": [
    "Again, we use data from [Vektis](http://www.vektis.nl/index.php/vektis-open-data). We import the data, which is a 'csv' file with \";\" as separator between columns. We also import some libraries.\n",
    "\n",
    "Then we look at the columns (variables) in the data.\n",
    "\n"
   ]
  },
  {
   "cell_type": "code",
   "execution_count": null,
   "metadata": {
    "collapsed": true
   },
   "outputs": [],
   "source": [
    "import numpy as np\n",
    "df_postal_code = pd.read_csv('Vektis_Open_Databestand_Zorgverzekeringswet_2014_-_postcode3.csv', sep = ';')\n"
   ]
  },
  {
   "cell_type": "markdown",
   "metadata": {},
   "source": [
    "This looks very much like the data set above, so we use the same function as above to get the data into shape.\n"
   ]
  },
  {
   "cell_type": "code",
   "execution_count": null,
   "metadata": {
    "collapsed": true
   },
   "outputs": [],
   "source": [
    "df_postal_code = get_data_into_shape(df_postal_code)"
   ]
  },
  {
   "cell_type": "markdown",
   "metadata": {},
   "source": [
    "We would like to define age as an integer. In order to do that, we need to remove the label '90+' which python sees as a string."
   ]
  },
  {
   "cell_type": "code",
   "execution_count": null,
   "metadata": {
    "collapsed": true
   },
   "outputs": [],
   "source": [
    "df_postal_code = df_postal_code[(df_postal_code['age'] != '90+')]\n",
    "df_postal_code['age'] = df_postal_code['age'].astype(int)"
   ]
  },
  {
   "cell_type": "markdown",
   "metadata": {},
   "source": [
    "**Exercise** \n",
    "\n",
    "As above, define health care costs per head\n",
    "\n"
   ]
  },
  {
   "cell_type": "code",
   "execution_count": null,
   "metadata": {
    "collapsed": true
   },
   "outputs": [],
   "source": [
    "df_postal_code['health_costs_per_head']"
   ]
  },
  {
   "cell_type": "markdown",
   "metadata": {},
   "source": [
    "So for, say, 18 year old males, we have a distribution of costs per head over the different `postal codes`. For each combination of age and sex, we can look at the average expenditure. As above, we use `groupby`: specify the dimensions over which we want to group, the variable we are interested in and give the function to aggregate (mean, in this case).\n",
    "\n"
   ]
  },
  {
   "cell_type": "code",
   "execution_count": null,
   "metadata": {
    "collapsed": true
   },
   "outputs": [],
   "source": [
    "costs_per_sex_age = df_postal_code.groupby(['sex','age'])['health_costs_per_head'].mean()"
   ]
  },
  {
   "cell_type": "markdown",
   "metadata": {},
   "source": [
    "\n",
    "## matplotlib\n",
    "\n"
   ]
  },
  {
   "cell_type": "markdown",
   "metadata": {},
   "source": [
    "Then we can plot this distribution of health care expenditure per head with age for males and females.\n",
    "\n"
   ]
  },
  {
   "cell_type": "code",
   "execution_count": null,
   "metadata": {
    "collapsed": true
   },
   "outputs": [],
   "source": [
    "import matplotlib.pyplot as plt\n",
    "plt.style.use('seaborn')\n",
    "fig = plt.figure()\n",
    "ax = costs_per_sex_age['M'].plot()\n",
    "ax = costs_per_sex_age['V'].plot()\n",
    "ax.set_xlabel('age')\n",
    "ax.set_ylabel('costs per head')\n",
    "ax.set_title('average costs per age and sex')\n",
    "ax.legend(['male','female'])\n",
    "fig.savefig(\"males.png\")"
   ]
  },
  {
   "cell_type": "markdown",
   "metadata": {},
   "source": [
    "---\n",
    "\n",
    "**Exercise**\n",
    "\n",
    "Finish the following code block to show how total obstetrics vary with 'age' and 'sex' (what would you guess&#x2026;).\n",
    "\n"
   ]
  },
  {
   "cell_type": "code",
   "execution_count": null,
   "metadata": {
    "collapsed": true
   },
   "outputs": [],
   "source": [
    "obstetrics_per_sex_age = df_postal_code.groupby(['sex','age'])['obstetrics'].sum()\n",
    "\n",
    "....\n",
    "\n",
    "fig.savefig(\"obstetrics.png\")"
   ]
  },
  {
   "cell_type": "markdown",
   "metadata": {},
   "source": [
    "---\n",
    "\n",
    "We can plot a histogram of the distribution of total hospital care expenditure across postal code areas.\n",
    "\n"
   ]
  },
  {
   "cell_type": "code",
   "execution_count": null,
   "metadata": {
    "collapsed": true
   },
   "outputs": [],
   "source": [
    "hospital_care_expenditure = df_postal_code.groupby(['age','POSTCODE_3'])['hospital_care'].sum()\n",
    "\n",
    "plt.clf()\n",
    "plt.hist(hospital_care_expenditure[7],normed = True, bins = 100)\n",
    "plt.show()"
   ]
  },
  {
   "cell_type": "markdown",
   "metadata": {},
   "source": [
    "---\n",
    "\n",
    "**Exercise**\n",
    "\n",
    "In which fraction of postal code areas does hospital expenditures on 50 year olds exceed 50000 euro? Finish the following code block to find out.\n",
    "\n"
   ]
  },
  {
   "cell_type": "code",
   "execution_count": null,
   "metadata": {
    "collapsed": true
   },
   "outputs": [],
   "source": [
    "sum()/len()"
   ]
  },
  {
   "cell_type": "markdown",
   "metadata": {},
   "source": [
    "---\n",
    "\n",
    "Suppose you are interested in the effect of the deductible on health care expenditure. Why would the following graph help for this?\n",
    "\n"
   ]
  },
  {
   "cell_type": "code",
   "execution_count": null,
   "metadata": {
    "collapsed": true
   },
   "outputs": [],
   "source": [
    "plt.style.use('seaborn')\n",
    "plt.clf()\n",
    "age_range = [14,15,16,17,19,20,21,22]\n",
    "\n",
    "plt.plot(age_range,costs_per_sex_age['M'][age_range], marker='.', label = 'male')\n",
    "plt.plot(age_range,costs_per_sex_age['V'][age_range], marker='.', label = 'female')\n",
    "plt.xlabel('age')\n",
    "plt.ylabel('health care costs')\n",
    "plt.legend()\n",
    "fig.savefig('fig14to22.png')"
   ]
  },
  {
   "cell_type": "markdown",
   "metadata": {},
   "source": [
    "\n",
    "### plotly\n",
    "\n"
   ]
  },
  {
   "cell_type": "markdown",
   "metadata": {},
   "source": [
    "Instead of `matplotlib` to plot, we can also use `plotly`. With `plotly` you can make interactive graphs. The graph runs on plotly's servers and can for instance be included in presentations.\n",
    "\n",
    "We are going to plot the cumulative distribution functions of health care expenditure for different age groups. We first define the cumulative distribution function `ecdf`.\n",
    "\n"
   ]
  },
  {
   "cell_type": "code",
   "execution_count": null,
   "metadata": {
    "collapsed": true
   },
   "outputs": [],
   "source": [
    "def ecdf(data):\n",
    "    x = np.sort(data)\n",
    "    y = np.arange(1.0, len(x)+1.0) / len(x)\n",
    "    return x, y"
   ]
  },
  {
   "cell_type": "markdown",
   "metadata": {},
   "source": [
    "Then we define the $x$ and $y$ coordinates of the functions we want to plot: the `ecdf` of health care expenditures for ages 16, 17, 19 and 20.\n",
    "\n"
   ]
  },
  {
   "cell_type": "code",
   "execution_count": null,
   "metadata": {
    "collapsed": true
   },
   "outputs": [],
   "source": [
    "x_16, y_16 = ecdf(df_postal_code.health_costs_per_head[(df_postal_code['age'] == 16)])\n",
    "x_17, y_17 = ecdf(df_postal_code.health_costs_per_head[(df_postal_code['age'] == 17)])\n",
    "x_19, y_19 = ecdf(df_postal_code.health_costs_per_head[(df_postal_code['age'] == 19)])\n",
    "x_20, y_20 = ecdf(df_postal_code.health_costs_per_head[(df_postal_code['age'] == 20)])"
   ]
  },
  {
   "cell_type": "markdown",
   "metadata": {},
   "source": [
    "We import plotly.\n",
    "\n"
   ]
  },
  {
   "cell_type": "code",
   "execution_count": null,
   "metadata": {
    "collapsed": true
   },
   "outputs": [],
   "source": [
    "import plotly.plotly as py\n",
    "from plotly.graph_objs import *\n",
    "import plotly.tools as tls"
   ]
  },
  {
   "cell_type": "markdown",
   "metadata": {},
   "source": [
    "Finally, we define the graph itself. We specify the \"Scatter's\" and the layout. The web address can be used if you want to include this graph in a presentation.\n",
    "\n"
   ]
  },
  {
   "cell_type": "code",
   "execution_count": null,
   "metadata": {
    "collapsed": true
   },
   "outputs": [],
   "source": [
    "age16 = Scatter(\n",
    "    x=x_16,\n",
    "    y=y_16,\n",
    "    mode='markers+lines',\n",
    "    name = 'age 16'\n",
    ")\n",
    "age17 = Scatter(\n",
    "    x=x_17,\n",
    "    y=y_17,\n",
    "    mode='markers+lines',\n",
    "    name = 'age 17'\n",
    ")\n",
    "age19 = Scatter(\n",
    "    x=x_19,\n",
    "    y=y_19,\n",
    "    mode='markers+lines',\n",
    "    name = 'age 19'\n",
    ")\n",
    "age20 = Scatter(\n",
    "    x=x_20,\n",
    "    y=y_20,\n",
    "    mode='markers+lines',\n",
    "    name = 'age 20'\n",
    ")\n",
    "\n",
    "layout = Layout(\n",
    "    title='Health care expend. distribution functions',\n",
    "    xaxis=XAxis(\n",
    "        range=[0,3000],\n",
    "        title='expenditure per head',\n",
    "        titlefont=Font(\n",
    "            family='Courier New, monospace',\n",
    "            size=18,\n",
    "            color='#7f7f7f'\n",
    "        )\n",
    "    ),\n",
    "    yaxis=YAxis(\n",
    "        title='cum. distribution function',\n",
    "        titlefont=Font(\n",
    "            family='Courier New, monospace',\n",
    "            size=18,\n",
    "            color='#7f7f7f'\n",
    "        )\n",
    "    )\n",
    ")\n",
    "\n",
    "data = Data([age16,age17,age19,age20])\n",
    "fig = Figure(data=data, layout=layout)\n",
    "py.plot(fig, filename='Distribution functions of health care expenditure per head')\n",
    "tls.embed(\"https://plot.ly/~janboone/301\")"
   ]
  },
  {
   "cell_type": "markdown",
   "metadata": {},
   "source": [
    "\n",
    "## Data on health care cost distributions\n",
    "\n",
    "In this section we focus on the distribution of costs. So we are not only interested in the average cost per age-gender category but also the distribution of individual costs within that category.\n",
    "\n"
   ]
  },
  {
   "cell_type": "code",
   "execution_count": null,
   "metadata": {
    "collapsed": true
   },
   "outputs": [],
   "source": [
    "import pandas as pd\n",
    "import numpy as np\n",
    "from scipy import stats\n",
    "from sklearn.model_selection import train_test_split\n",
    "from sklearn.linear_model import LinearRegression\n",
    "import matplotlib.pyplot as plt\n",
    "import bisect\n",
    "plt.style.use('seaborn')\n",
    "%matplotlib inline"
   ]
  },
  {
   "cell_type": "markdown",
   "metadata": {},
   "source": [
    "The following data set is based on individual level data. We read in a summary data set which is based on half the Dutch population in 2009.\n",
    "\n",
    "It distinguishes sub-groups based on age, gender and the average income level of the postal code area where a person lives: `income_quintile` =1 refers to a postal code in the lowest quintile in the income distribution, `income_quintile` = 5 the highest income quintile. `vol` is a binary variable which indicates whether a person opted for an additional, voluntary deductible. In the Netherlands people can add a voluntary deductible on top of their mandatory deductible, in return for a lower premium. `vol_deduc` shows the size of this voluntary deductible: 100,200,300,400 or 500 euros. We focus on people without a voluntary deductible here. But you can analyse these for your assignment, if you like.\n",
    "\n",
    "`fkg` and `dkg` are dummies and equal to 1 for \"chronic users\" of drugs and treatments, resp.\n",
    "\n",
    "`mean_expenditure` refers to the average health care expenditure (under the deductible) for people in this group. `number` refers to the number of people in this group. The variables starting with `fraction` refer to the fraction of people with a certain health care expenditure. To illustrate, `fraction_0.0` refers to the fraction of people in the group with no (zero) health care expenditures. `fraction_$x$` refers to the fraction of people with health care expenditure below $x$; where $x$ runs up to 3000. `fraction_below_deductible` denotes the fraction of people whose health care expenditure are below the deductible of 155 euros in the yar 2009. Finally, `fraction_above_high = 1-fraction_3000.0`.\n",
    "\n",
    "In other words, the `fraction_$x$` variables are like a cumulative distribution function (not a density function)."
   ]
  },
  {
   "cell_type": "code",
   "execution_count": null,
   "metadata": {
    "collapsed": true
   },
   "outputs": [],
   "source": [
    "fkg = 0\n",
    "dkg = 0\n",
    "vol=0\n",
    "vol_deduc=0\n",
    "\n",
    "df_health = pd.read_csv('data_info_train2009.csv',index_col = 0)\n"
   ]
  },
  {
   "cell_type": "markdown",
   "metadata": {},
   "source": [
    "**Exercise**\n",
    "\n",
    "What does the dataframe `df_health` look like?"
   ]
  },
  {
   "cell_type": "code",
   "execution_count": null,
   "metadata": {
    "collapsed": true
   },
   "outputs": [],
   "source": []
  },
  {
   "cell_type": "markdown",
   "metadata": {},
   "source": [
    "The following definitions of the lists `bins` and `fractions` allow us to easily plot the distribution of health care expenditure for sub-groups. We will use this below.\n",
    "\n"
   ]
  },
  {
   "cell_type": "code",
   "execution_count": null,
   "metadata": {
    "collapsed": true
   },
   "outputs": [],
   "source": [
    "bins = list(np.linspace(0,1000,41))+ list(np.linspace(1100,3000,20)) # generates a range of costs\n",
    "fractions = [\"fraction_\"+str(i) for i in bins]"
   ]
  },
  {
   "cell_type": "markdown",
   "metadata": {},
   "source": [
    "First, consider the average expenditure per age group. This is similar to the graphs we made above. Here we can also differentiate per income quintile.\n",
    "\n"
   ]
  },
  {
   "cell_type": "code",
   "execution_count": null,
   "metadata": {
    "collapsed": true
   },
   "outputs": [],
   "source": [
    "sex=0\n",
    "income=1\n",
    "\n",
    "plt.plot(df_health.loc[(df_health.sex==sex)&(df_health.dkg==dkg)&(df_health.fkg==fkg)&(df_health.income_quintile == income)&(df_health.vol==vol)&(df_health.vol_deduc==vol_deduc)].age,df_health.loc[(df_health.sex==sex)&(df_health.dkg==dkg)&(df_health.fkg==fkg)&(df_health.income_quintile == income)&(df_health.vol==vol)&(df_health.vol_deduc==vol_deduc)].mean_expenditure, label = \"female, income categ. 1\")\n",
    "\n",
    "income = 5\n",
    "plt.plot(df_health.loc[(df_health.sex==sex)&(df_health.dkg==dkg)&(df_health.fkg==fkg)&(df_health.income_quintile == income)&(df_health.vol==vol)&(df_health.vol_deduc==vol_deduc)].age,df_health.loc[(df_health.sex==sex)&(df_health.dkg==dkg)&(df_health.fkg==fkg)&(df_health.income_quintile == income)&(df_health.vol==vol)&(df_health.vol_deduc==vol_deduc)].mean_expenditure, label = \"female, income categ. 5\")\n",
    "plt.legend()\n",
    "plt.xlabel('age')\n",
    "plt.ylabel('average expenditure')\n",
    "\n",
    "plt.show()"
   ]
  },
  {
   "cell_type": "markdown",
   "metadata": {},
   "source": [
    "**Exercise**\n",
    "\n",
    "Use the code above to compare average expenditures across age for males for two income levels.\n",
    "\n",
    "For which gender is health care expenditure more elastic w.r.t. income?"
   ]
  },
  {
   "cell_type": "code",
   "execution_count": null,
   "metadata": {
    "collapsed": true
   },
   "outputs": [],
   "source": []
  },
  {
   "cell_type": "markdown",
   "metadata": {},
   "source": [
    "The next graph shows the cumulative distribution function of health care expenditure $x$ for two age categories and males in the low income quintile."
   ]
  },
  {
   "cell_type": "code",
   "execution_count": null,
   "metadata": {
    "collapsed": true
   },
   "outputs": [],
   "source": [
    "age = 20\n",
    "age2 = 70\n",
    "sex = 0\n",
    "cat_std_hhinc = 1\n",
    "range_costs = bins\n",
    "range_freq = [df_health.loc[(df_health.sex==sex)&(df_health.income_quintile==cat_std_hhinc)&(df_health.age==age)][fraction].values[0] for fraction in fractions]\n",
    "range_freq2 = [df_health.loc[(df_health.sex==sex)&(df_health.income_quintile==cat_std_hhinc)&(df_health.age==age2)][fraction].values[0] for fraction in fractions]\n",
    "\n",
    "plt.plot(range_costs,range_freq,label='age='+str(age))\n",
    "plt.plot(range_costs,range_freq2,label='age='+str(age2))\n",
    "plt.legend()\n",
    "plt.xlabel('$x$')\n",
    "plt.ylim(0,1)\n",
    "plt.show()"
   ]
  },
  {
   "cell_type": "markdown",
   "metadata": {},
   "source": [
    "**Exercise**\n",
    "\n",
    "In the graph above you can see that there is a fraction of people with zero health care costs. However, in the [plotly](#plotly) figure above, there is no one with zero costs. Is this an inconsistency?\n"
   ]
  },
  {
   "cell_type": "markdown",
   "metadata": {},
   "source": [
    "**Exercise**"
   ]
  },
  {
   "cell_type": "markdown",
   "metadata": {},
   "source": [
    "Can you plot the fraction of people with zero health care costs per age category? How does this vary by sex? And how can you explain these differences?"
   ]
  },
  {
   "cell_type": "markdown",
   "metadata": {},
   "source": [
    "**Exercise**"
   ]
  },
  {
   "cell_type": "markdown",
   "metadata": {},
   "source": [
    "A political party wonders how many people exceed their deductible. Make a plot of the fraction of people who exceeds their deductible by age category. "
   ]
  },
  {
   "cell_type": "markdown",
   "metadata": {},
   "source": [
    "**Exercise**\n",
    "\n",
    "The Dutch government is worried about the impact that a deductible has on people with low income. Suppose the government would impose a deductible equal to 500 euro (and health care expenditure would not change). Plot per age category the fraction of people that would have to pay (the full) 500 euro on health care costs. How does this vary with income?"
   ]
  },
  {
   "cell_type": "code",
   "execution_count": null,
   "metadata": {
    "collapsed": true
   },
   "outputs": [],
   "source": []
  },
  {
   "cell_type": "markdown",
   "metadata": {},
   "source": [
    "It is also possible to make animations"
   ]
  },
  {
   "cell_type": "code",
   "execution_count": null,
   "metadata": {
    "collapsed": true
   },
   "outputs": [],
   "source": [
    "import io\n",
    "from matplotlib import animation\n",
    "import base64\n",
    "from IPython.display import HTML"
   ]
  },
  {
   "cell_type": "code",
   "execution_count": null,
   "metadata": {
    "collapsed": true
   },
   "outputs": [],
   "source": [
    "fig = plt.figure()\n",
    "ax = plt.axes(xlim=(0, 3000), ylim=(0, 1))\n",
    "line, = ax.plot([], [], lw=2)\n",
    "text = ax.text(0.02, 0.95, '', transform=ax.transAxes)\n",
    "\n",
    "# initialization function: plot the background of each frame\n",
    "def init():\n",
    "    line.set_data([], [])\n",
    "    text.set_text('')\n",
    "    return line, text\n",
    "\n",
    "# animation function.  This is called sequentially\n",
    "def animate(i):\n",
    "    x = range_costs\n",
    "    age = 19+i\n",
    "    y = [df_health.loc[(df_health.sex==sex)&(df_health.income_quintile==income_quintile)&(df_health.age==age)][fraction].values[0] for fraction in fractions]\n",
    "    line.set_data(x, y)\n",
    "    text.set_text('age = %.0f' % age)\n",
    "    return line, text\n",
    "\n",
    "# call the animator.  blit=True means only re-draw the parts that have changed.\n",
    "anim = animation.FuncAnimation(fig, animate, init_func=init,\n",
    "                               frames=72, interval=200, blit=True)\n",
    "\n",
    "# save the animation as an mp4.  This requires ffmpeg or mencoder to be\n",
    "# installed.  The extra_args ensure that the x264 codec is used, so that\n",
    "# the video can be embedded in html5.  You may need to adjust this for\n",
    "# your system: for more information, see\n",
    "# http://matplotlib.sourceforge.net/api/animation_api.html\n",
    "anim.save('distr_animation_age.mp4', fps=3, extra_args=['-vcodec', 'libx264'])\n",
    "\n",
    "video = io.open('distr_animation_age.mp4', 'r+b').read()\n",
    "encoded = base64.b64encode(video)\n",
    "HTML(data='''<video alt=\"test\" controls>\n",
    "                <source src=\"data:video/mp4;base64,{0}\" type=\"video/mp4\" />\n",
    "             </video>'''.format(encoded.decode('ascii')))"
   ]
  },
  {
   "cell_type": "markdown",
   "metadata": {},
   "source": [
    "Make an animation to show how health care expenditure per age group varies with income.\n",
    "\n"
   ]
  },
  {
   "cell_type": "markdown",
   "metadata": {},
   "source": [
    "\n",
    "# A first look at machine learning\n",
    "\n"
   ]
  },
  {
   "cell_type": "markdown",
   "metadata": {},
   "source": [
    "Python is used a lot in data science. If you are interested you can check out libraries like [TensorFlow](https://www.tensorflow.org/) and [keras](https://keras.io/). We will have a (brief) look at [scikit-learn](http://scikit-learn.org/stable/index.html). If you want to know more, go to [Datacamp](https://campus.datacamp.com/courses/supervised-learning-with-scikit-learn/classification?ex=1) and follow the course before your subscription runs out&#x2026;\n",
    "\n",
    "We will use the data set above and see whether we can distinguish different age-categories based on their health care expenditure. From the dataframe we select the age categories 25 and 70. Then we use the expenditure per head in each category to predict the age-sex category of this postal code area.\n",
    "\n",
    "As above we import the relevant libraries and data.\n",
    "\n"
   ]
  },
  {
   "cell_type": "code",
   "execution_count": null,
   "metadata": {
    "collapsed": true
   },
   "outputs": [],
   "source": [
    "import numpy as np\n",
    "import pandas as pd\n",
    "import matplotlib as plt\n",
    "df_postal_code = pd.read_csv('Vektis_Open_Databestand_Zorgverzekeringswet_2014_-_postcode3.csv', sep = ';')"
   ]
  },
  {
   "cell_type": "markdown",
   "metadata": {},
   "source": [
    "We now use a slightly different way to get the data into shape and hence we rename the function.\n",
    "\n"
   ]
  },
  {
   "cell_type": "code",
   "execution_count": null,
   "metadata": {
    "collapsed": true
   },
   "outputs": [],
   "source": [
    "def get_data_into_shape_2(df):\n",
    "    df = df.rename_axis({\n",
    "        'GESLACHT':'sex',\n",
    "        'LEEFTIJDSKLASSE':'age',\n",
    "        'GEMEENTENAAM':'MUNICIPALITY',\n",
    "        'AANTAL_BSN':'number_citizens',\n",
    "        'KOSTEN_MEDISCH_SPECIALISTISCHE_ZORG':'hospital_care',\n",
    "        'KOSTEN_FARMACIE':'pharmaceuticals',\n",
    "        'KOSTEN_TWEEDELIJNS_GGZ':'mental_care',\n",
    "        'KOSTEN_HUISARTS_INSCHRIJFTARIEF':'GP_capitation',\n",
    "        'KOSTEN_HUISARTS_CONSULT':'GP_fee_for_service',\n",
    "        'KOSTEN_HUISARTS_OVERIG':'GP_other',\n",
    "        'KOSTEN_MONDZORG':'dental_care',\n",
    "        'KOSTEN_PARAMEDISCHE_ZORG_FYSIOTHERAPIE':'physiotherapy',\n",
    "        'KOSTEN_KRAAMZORG':'maternity_care',\n",
    "        'KOSTEN_VERLOSKUNDIGE_ZORG':'obstetrics',\n",
    "        'KOSTEN_GERIATRISCHE_REVALIDATIEZORG':'geriatrics'\n",
    "                        }, axis='columns')\n",
    "    df.drop(['AANTAL_VERZEKERDEJAREN',\n",
    "             'KOSTEN_HULPMIDDELEN',\n",
    "             'KOSTEN_PARAMEDISCHE_ZORG_OVERIG',\n",
    "             'KOSTEN_ZIEKENVERVOER_ZITTEND',\n",
    "             'KOSTEN_ZIEKENVERVOER_LIGGEND',\n",
    "             'KOSTEN_GRENSOVERSCHRIJDENDE_ZORG',\n",
    "             'KOSTEN_OVERIG',\n",
    "             'KOSTEN_GENERALISTISCHE_BASIS_GGZ',\n",
    "             'KOSTEN_EERSTELIJNS_ONDERSTEUNING'],inplace=True,axis=1)\n",
    "    df.drop(df.index[[0]], inplace=True)\n",
    "    return df"
   ]
  },
  {
   "cell_type": "markdown",
   "metadata": {},
   "source": [
    "With the function above, we first get the data into the shape that we want.\n",
    "\n"
   ]
  },
  {
   "cell_type": "code",
   "execution_count": null,
   "metadata": {
    "collapsed": true
   },
   "outputs": [],
   "source": [
    "df_postal_code = get_data_into_shape_2(df_postal_code)"
   ]
  },
  {
   "cell_type": "markdown",
   "metadata": {},
   "source": [
    "We are going to consider the ages 25 and 70. As age can be integer or string, we include both in the list of age-values that we wish to select.\n",
    "\n"
   ]
  },
  {
   "cell_type": "code",
   "execution_count": null,
   "metadata": {
    "collapsed": true
   },
   "outputs": [],
   "source": [
    "df_25_70 = df_postal_code[df_postal_code['age'].isin(['25','70', 25, 70])]"
   ]
  },
  {
   "cell_type": "markdown",
   "metadata": {},
   "source": [
    "We define the groups as \"25M\" for 25 year old males. In order to add the columns \"sex\" and \"age\", they need to be strings as in python adding the strings \\`\"abc\"+\"def\"\\` yields \\`\"abcdef\"\\`; which is exactly what we want.\n",
    "\n"
   ]
  },
  {
   "cell_type": "code",
   "execution_count": null,
   "metadata": {
    "collapsed": true
   },
   "outputs": [],
   "source": [
    "df_25_70.age = df_25_70.age.astype('str')\n",
    "df_25_70.sex = df_25_70.sex.astype('str')\n",
    "df_25_70['target'] = df_25_70.age+df_25_70.sex"
   ]
  },
  {
   "cell_type": "markdown",
   "metadata": {},
   "source": [
    "This combination of age and sex (4 categories) is the variable that we want to predict. Hence, we call the variable \\`target\\`. We turn \\`target\\` into a category and find that there are indeed 4 of these categories.\n",
    "\n"
   ]
  },
  {
   "cell_type": "code",
   "execution_count": null,
   "metadata": {
    "collapsed": true
   },
   "outputs": [],
   "source": [
    "df_25_70['target'] = df_25_70['target'].astype('category')\n",
    "df_25_70['target'].cat.categories"
   ]
  },
  {
   "cell_type": "markdown",
   "metadata": {},
   "source": [
    "With \\`.cat.codes\\` we turn our categories into integers 0, 1, 2, 3.\n",
    "\n"
   ]
  },
  {
   "cell_type": "code",
   "execution_count": null,
   "metadata": {
    "collapsed": true
   },
   "outputs": [],
   "source": [
    "df_25_70['target'].cat.codes.describe()"
   ]
  },
  {
   "cell_type": "markdown",
   "metadata": {},
   "source": [
    "We redefine expenditures in each care category as per head expenditure in the 3 digit postal code area. We then think of each area as being an \"individual\". Based on the individuals expenditure per care category, we predict age and sex. The following code redefines for each care category the total expenditure into an expenditure per head.\n",
    "\n"
   ]
  },
  {
   "cell_type": "code",
   "execution_count": null,
   "metadata": {
    "collapsed": true
   },
   "outputs": [],
   "source": [
    "care_categories = ['hospital_care', 'pharmaceuticals', 'mental_care', 'GP_capitation', 'GP_fee_for_service', 'GP_other', 'dental_care', 'physiotherapy', 'maternity_care', 'obstetrics', 'geriatrics']\n",
    "\n",
    "for variable in care_categories:\n",
    "    df_25_70[variable] = df_25_70[variable]/df_25_70['number_citizens']"
   ]
  },
  {
   "cell_type": "markdown",
   "metadata": {},
   "source": [
    "---\n",
    "\n",
    "**Exercise**\n",
    "\n",
    "Get a sense of what the dataframe `df_25_70` looks like.\n",
    "\n"
   ]
  },
  {
   "cell_type": "code",
   "execution_count": null,
   "metadata": {
    "collapsed": true
   },
   "outputs": [],
   "source": []
  },
  {
   "cell_type": "markdown",
   "metadata": {},
   "source": [
    "---\n",
    "\n",
    "The variable \\`target\\` is the variable we would like to predict. Hence, we call it $y$. We choose a subset of health care expenditure categories (you can experiment with this yourself) as predictors (independent variables) and denote the variables in this subset by $X$.\n",
    "\n"
   ]
  },
  {
   "cell_type": "code",
   "execution_count": null,
   "metadata": {
    "collapsed": true
   },
   "outputs": [],
   "source": [
    "y = df_25_70.target\n",
    "\n",
    "subset_care_categories = ['physiotherapy', 'obstetrics', 'geriatrics', 'pharmaceuticals']\n",
    "X = df_25_70[subset_care_categories]"
   ]
  },
  {
   "cell_type": "markdown",
   "metadata": {},
   "source": [
    "In this version of the notebook we use four cost categories to separate the different age-sex types. The algorithm below makes this separation in four dimensional space. To get a first intuition, we can consider the data points in two dimensional space, using pairwise combinations of the cost categories. The function \\`scatter\\_matrix\\` does this for each pairwise combination of the cost categories. By turning the variable \\`target\\` into integers 0,1,2,3 we can use this variable to color the points. Each category has its own color. For this translation to integers, we use the \\`.cat.codes\\` attribute that we saw above.\n",
    "\n"
   ]
  },
  {
   "cell_type": "code",
   "execution_count": null,
   "metadata": {
    "collapsed": true
   },
   "outputs": [],
   "source": [
    "from pandas.tools.plotting import scatter_matrix # Import the function to plot a scatterplot\n",
    "    \n",
    "%matplotlib inline\n",
    "\n",
    "scatter_matrix(\n",
    "    X,  # drop the none feature columns\n",
    "    figsize=(12, 12),                                             # square figuresize for the matrix\n",
    "    alpha=0.5,                                                    # alpha of 0.5 to see overlapping dots\n",
    "    s=50,                                                         # fixed size of 50\n",
    "    c=[plt.cm.get_cmap('rainbow', 4)(idx) for idx in df_25_70['target'].cat.codes],\n",
    "    diagonal='kde');                                              # diagonal line are feature distributions"
   ]
  },
  {
   "cell_type": "markdown",
   "metadata": {},
   "source": [
    "In order to classify points, we use the k-neighbours method. The idea is as follows. To classify a point, we consider its $k$ closest neighbours. If the majority of these neighbours have label, say '70M', then we classify this point also as '70M'.\n",
    "\n",
    "As the goal here is to predict, we do not worry about concepts like normal distribution, p-values, co-linearity. We simply split the data set into two subsets. We estimate (train) the model on the first data set. Then we apply the estimated model on the other (test) data. For the test data we calculate how often we get it right.\n",
    "\n",
    "From scikit-learn we import the function \\`train\\_test\\_split\\`. This function splits our data $X,y$ into a training and a testing data set. The size of the test data set is set at 30% here. We can set the seed (21) for the random number generator &#x2013;don't worry if this does not mean anything to you. Finally, we stratify the data such that the distribution of labels is the same in the training and testing data.\n",
    "\n",
    "Here we set the number of neighbours equal to $k=8$. Higher values of $k$ give smoother results and lead to a \"simpler\" model but misses local subtleties. The extreme is where $k=n$ (the number of observations). Then all observations get the same label (the mode of the distribution). \n",
    "\n",
    "Then we fit this model \\`knn\\` to our training data. After we fitted the model, we can predict labels in the test data set. The score indicates the percentage of labels we got right in the test data.\n",
    "\n"
   ]
  },
  {
   "cell_type": "code",
   "execution_count": null,
   "metadata": {
    "collapsed": true
   },
   "outputs": [],
   "source": [
    "from sklearn.model_selection import train_test_split\n",
    "from sklearn.neighbors import KNeighborsClassifier\n",
    "\n",
    "X_train, X_test, y_train, y_test = train_test_split(X, y, test_size=0.3, random_state=21, stratify=y)\n",
    "knn = KNeighborsClassifier(n_neighbors=8)\n",
    "knn.fit(X_train, y_train)\n",
    "y_pred = knn.predict(X_test)\n",
    "print(knn.score(X_test, y_test))"
   ]
  },
  {
   "cell_type": "markdown",
   "metadata": {},
   "source": [
    "Now let us focus on women with age 25 and 70. Intuitively, with categories like 'obstetrics' and 'geriatrics' we should be able to separate these categories perfectly. And indeed we are.\n",
    "\n"
   ]
  },
  {
   "cell_type": "code",
   "execution_count": null,
   "metadata": {
    "collapsed": true
   },
   "outputs": [],
   "source": [
    "df_female = df_25_70[df_25_70['target'].isin(['25V','70V'])]\n",
    "\n",
    "y_f = df_female.target\n",
    "\n",
    "subset_care_categories = ['physiotherapy', 'obstetrics', 'geriatrics', 'pharmaceuticals']\n",
    "X_f = df_female[subset_care_categories]\n",
    "\n",
    "scatter_matrix(\n",
    "    X_f,  # drop the none feature columns\n",
    "    figsize=(12, 12),                                             # square figuresize for the matrix\n",
    "    alpha=0.5,                                                    # alpha of 0.5 to see overlapping dots\n",
    "    s=50,                                                         # fixed size of 50\n",
    "    c=[plt.cm.get_cmap('rainbow', 4)(idx) for idx in df_female['target'].cat.codes],\n",
    "    diagonal='kde');                                              # diagonal line are feature distributions"
   ]
  },
  {
   "cell_type": "markdown",
   "metadata": {},
   "source": [
    "---\n",
    "\n",
    "**Exercise**\n",
    "\n",
    "Use the $k$-neighbors method from above on the data $X_f,y_f$. That is, split the data into test and training sets, fit the model on the training data and then show that on the test data you get a score close to 100%.\n",
    "\n"
   ]
  },
  {
   "cell_type": "code",
   "execution_count": null,
   "metadata": {
    "collapsed": true
   },
   "outputs": [],
   "source": []
  },
  {
   "cell_type": "markdown",
   "metadata": {},
   "source": [
    "---\n",
    "\n"
   ]
  }
 ],
 "metadata": {
  "kernelspec": {
   "display_name": "Python [default]",
   "language": "python",
   "name": "python3"
  },
  "language_info": {
   "codemirror_mode": {
    "name": "ipython",
    "version": 3
   },
   "file_extension": ".py",
   "mimetype": "text/x-python",
   "name": "python",
   "nbconvert_exporter": "python",
   "pygments_lexer": "ipython3",
   "version": "3.5.2"
  },
  "org": null
 },
 "nbformat": 4,
 "nbformat_minor": 1
}
